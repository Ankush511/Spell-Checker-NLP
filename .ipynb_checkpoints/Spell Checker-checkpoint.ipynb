{
 "cells": [
  {
   "cell_type": "code",
   "execution_count": 8,
   "id": "b2a412d5-7caf-4c69-ad67-275541f67185",
   "metadata": {},
   "outputs": [],
   "source": [
    "import re\n",
    "from tqdm import tqdm"
   ]
  },
  {
   "cell_type": "markdown",
   "id": "e582b713-7f31-4a1a-9ab9-ac1d3168f1b7",
   "metadata": {},
   "source": [
    "## <b/> Finding the unique words"
   ]
  },
  {
   "cell_type": "code",
   "execution_count": 7,
   "id": "29631286-112e-4195-ab72-6a909d446c3c",
   "metadata": {},
   "outputs": [
    {
     "name": "stdout",
     "output_type": "stream",
     "text": [
      "1115585\n",
      "38160\n"
     ]
    }
   ],
   "source": [
    "with open('big.txt', 'r') as fd:\n",
    "    lines = fd.readlines()\n",
    "    words = []\n",
    "    for line in lines:\n",
    "        words += re.findall('\\w+', line)\n",
    "\n",
    "print(len(words))\n",
    "vocab = set(words)\n",
    "print(len(vocab))"
   ]
  },
  {
   "cell_type": "markdown",
   "id": "9969b624-d0fa-4758-b927-f70e7b31f545",
   "metadata": {},
   "source": [
    "## <b/> Finding the probability distribution"
   ]
  },
  {
   "cell_type": "code",
   "execution_count": 9,
   "id": "0fc03187-9b4b-48ea-9dae-8b4616006762",
   "metadata": {},
   "outputs": [
    {
     "name": "stderr",
     "output_type": "stream",
     "text": [
      "100%|█████████████████████████████████████| 38160/38160 [08:47<00:00, 72.30it/s]\n"
     ]
    }
   ],
   "source": [
    "word_probability = {}\n",
    "\n",
    "for word in tqdm(vocab):\n",
    "    word_probability[word] = float(words.count(word) / len(words))"
   ]
  },
  {
   "cell_type": "code",
   "execution_count": 10,
   "id": "10430806-5dee-47e2-82f1-ce981f932759",
   "metadata": {},
   "outputs": [
    {
     "data": {
      "text/plain": [
       "38160"
      ]
     },
     "execution_count": 10,
     "metadata": {},
     "output_type": "execute_result"
    }
   ],
   "source": [
    "len(word_probability)"
   ]
  },
  {
   "cell_type": "markdown",
   "id": "0d0b946d-4487-4977-bb11-1e8d29fea600",
   "metadata": {},
   "source": [
    "## <b/>Text Processing"
   ]
  },
  {
   "cell_type": "markdown",
   "id": "6ff1e353-a7e3-4138-aef7-170a375a9d57",
   "metadata": {},
   "source": [
    "### Splitting"
   ]
  },
  {
   "cell_type": "code",
   "execution_count": 11,
   "id": "b86984c6-f41f-48e4-8488-86c3e1327b50",
   "metadata": {},
   "outputs": [],
   "source": [
    "def split(word):  \n",
    "    parts = []\n",
    "    for i in range(len(word) + 1):\n",
    "        parts += [(word[ : i], word[i : ])]\n",
    "    return parts"
   ]
  },
  {
   "cell_type": "markdown",
   "id": "c56a2fee-bc12-45eb-b047-e23d1937400a",
   "metadata": {},
   "source": [
    "### Delete"
   ]
  },
  {
   "cell_type": "markdown",
   "id": "bc64d4a4-51e2-4296-8c93-5e0f8a5e53d5",
   "metadata": {},
   "source": [
    "'loave' -> 'love'"
   ]
  },
  {
   "cell_type": "code",
   "execution_count": 12,
   "id": "7959b7ed-567b-4a4f-b9b5-ec35364f8e45",
   "metadata": {},
   "outputs": [
    {
     "data": {
      "text/plain": [
       "['oave', 'lave', 'love', 'loae', 'loav', 'loave']"
      ]
     },
     "execution_count": 12,
     "metadata": {},
     "output_type": "execute_result"
    }
   ],
   "source": [
    "def delete(word):\n",
    "    \n",
    "    output = []\n",
    "    for l,r in split(word):\n",
    "        output.append(l + r[1:])\n",
    "    return output\n",
    "\n",
    "delete('loave')"
   ]
  },
  {
   "cell_type": "markdown",
   "id": "056ec2a5-ae91-4347-82cc-0e497bd42a26",
   "metadata": {},
   "source": [
    "### Swapping"
   ]
  },
  {
   "cell_type": "markdown",
   "id": "6c262cc1-a498-4816-b705-81f29f7ff7c9",
   "metadata": {},
   "source": [
    "'lvoe' -> 'love'"
   ]
  },
  {
   "cell_type": "code",
   "execution_count": 13,
   "id": "66b4803a-68bf-4ff7-a35d-e7223ee5950e",
   "metadata": {},
   "outputs": [
    {
     "data": {
      "text/plain": [
       "['vloe', 'love', 'lveo']"
      ]
     },
     "execution_count": 13,
     "metadata": {},
     "output_type": "execute_result"
    }
   ],
   "source": [
    "def swap(word):\n",
    "        \n",
    "    output = []    \n",
    "    for l,r in split(word):\n",
    "        if (len(r) > 1):\n",
    "            output.append(l + r[1] + r[0] + r[2:])\n",
    "    return output\n",
    "            \n",
    "swap('lvoe')"
   ]
  },
  {
   "cell_type": "markdown",
   "id": "9dce118f-70a1-4e83-937b-fbc4b9eafd4d",
   "metadata": {},
   "source": [
    "### Replace"
   ]
  },
  {
   "cell_type": "markdown",
   "id": "465d53cf-d612-4146-8ed4-4c209eb7e755",
   "metadata": {},
   "source": [
    "'lave' -> 'love'"
   ]
  },
  {
   "cell_type": "code",
   "execution_count": 17,
   "id": "e740be2d-2472-4e76-b907-5365ce423d06",
   "metadata": {},
   "outputs": [
    {
     "data": {
      "text/plain": [
       "130"
      ]
     },
     "execution_count": 17,
     "metadata": {},
     "output_type": "execute_result"
    }
   ],
   "source": [
    "def replace(word):\n",
    "    \n",
    "    characters = 'abcdefghijklmnopqrstuvwxyz'\n",
    "    output = []    \n",
    "\n",
    "    for l,r in split(word):\n",
    "        for char in characters:\n",
    "            output.append(l + char +  r[1:])\n",
    "    return output\n",
    "\n",
    "len(replace('lave'))"
   ]
  },
  {
   "cell_type": "markdown",
   "id": "9b79015c-72d4-4cf1-a896-bf69e2b9bcb9",
   "metadata": {},
   "source": [
    "### Insert"
   ]
  },
  {
   "cell_type": "markdown",
   "id": "978b6ac3-63f4-444e-9631-a83aac402487",
   "metadata": {},
   "source": [
    "'lve' -> 'love'"
   ]
  },
  {
   "cell_type": "code",
   "execution_count": 15,
   "id": "ed521b52-7c1e-4404-a679-455e72793c7d",
   "metadata": {},
   "outputs": [
    {
     "data": {
      "text/plain": [
       "104"
      ]
     },
     "execution_count": 15,
     "metadata": {},
     "output_type": "execute_result"
    }
   ],
   "source": [
    "def insert(word):\n",
    "\n",
    "    characters = 'abcdefghijklmnopqrstuvwxyz'\n",
    "    output = []\n",
    "\n",
    "    for l,r in split(word):\n",
    "        for char in characters:\n",
    "            output.append(l + char + r)\n",
    "\n",
    "    return output\n",
    "\n",
    "len(insert('lve'))"
   ]
  },
  {
   "cell_type": "markdown",
   "id": "44849122-3832-4ae5-b693-40c88424288a",
   "metadata": {},
   "source": [
    "## <b/> Finding the Prediction"
   ]
  },
  {
   "cell_type": "markdown",
   "id": "aad3938c-4823-4490-9bbf-51b97fcd6801",
   "metadata": {},
   "source": [
    "### Combining possible words"
   ]
  },
  {
   "cell_type": "code",
   "execution_count": 18,
   "id": "81e60fef-9715-48b3-9e51-90de02715685",
   "metadata": {},
   "outputs": [],
   "source": [
    "def edit(word):   \n",
    "    return list(set(insert(word) + delete(word) + swap(word) + replace(word)))"
   ]
  },
  {
   "cell_type": "markdown",
   "id": "f3cac418-ec1a-4ac9-b137-4d6a445fe0f0",
   "metadata": {},
   "source": [
    "### Predicting the word"
   ]
  },
  {
   "cell_type": "code",
   "execution_count": 21,
   "id": "8967d24e-9b52-4b6a-9d81-006c0fad16b9",
   "metadata": {},
   "outputs": [],
   "source": [
    "import pandas as pd"
   ]
  },
  {
   "cell_type": "code",
   "execution_count": 22,
   "id": "bd355dbe-dad3-401f-962b-ff15e6d08931",
   "metadata": {},
   "outputs": [],
   "source": [
    "def spell_check_edit_1(word, count = 5):\n",
    "    \n",
    "    output = []\n",
    "    suggested_words = edit(word)\n",
    "    \n",
    "    for wrd in suggested_words:        \n",
    "        if wrd in word_probability.keys():\n",
    "            output.append([wrd, word_probability[wrd]])\n",
    "            \n",
    "    return list(pd.DataFrame(output, columns = ['word','prob']).sort_values(by = 'prob', ascending = False).head(count)['word'].values)"
   ]
  },
  {
   "cell_type": "code",
   "execution_count": 23,
   "id": "f735cad8-614a-4670-a749-e6c660469481",
   "metadata": {},
   "outputs": [
    {
     "data": {
      "text/plain": [
       "['family']"
      ]
     },
     "execution_count": 23,
     "metadata": {},
     "output_type": "execute_result"
    }
   ],
   "source": [
    "spell_check_edit_1('famili')"
   ]
  },
  {
   "cell_type": "markdown",
   "id": "fb42a8fe-ddd4-4db4-9e1e-545a9206359e",
   "metadata": {},
   "source": [
    "## <b/>Finding Prediction - Level 2"
   ]
  },
  {
   "cell_type": "code",
   "execution_count": 27,
   "id": "1339cf0a-024a-4a06-b523-d2f324b4c8fc",
   "metadata": {},
   "outputs": [
    {
     "data": {
      "text/plain": [
       "['family', 'namely', 'fame', 'camel', 'famed']"
      ]
     },
     "execution_count": 27,
     "metadata": {},
     "output_type": "execute_result"
    }
   ],
   "source": [
    "def spell_check_edit_2(word, count = 5):\n",
    "    \n",
    "    output = []\n",
    "    suggested_words = edit(word)       # Level one Edit\n",
    "    \n",
    "    for e1 in edit(word):\n",
    "        suggested_words += edit(e1)    # Second Level Edit \n",
    "    \n",
    "    suggested_words = list(set(suggested_words))\n",
    "    \n",
    "    for wrd in suggested_words:\n",
    "        if wrd in word_probability.keys():\n",
    "            output.append([wrd, word_probability[wrd]])\n",
    "    return list(pd.DataFrame(output, columns = ['word','prob']).sort_values(by = 'prob', ascending = False).head(count)['word'].values)\n",
    "        \n",
    "spell_check_edit_2('fameli')"
   ]
  },
  {
   "cell_type": "code",
   "execution_count": null,
   "id": "8f60c781-a4ad-464e-9606-3e835439c97d",
   "metadata": {},
   "outputs": [],
   "source": []
  }
 ],
 "metadata": {
  "kernelspec": {
   "display_name": "Python 3 (ipykernel)",
   "language": "python",
   "name": "python3"
  },
  "language_info": {
   "codemirror_mode": {
    "name": "ipython",
    "version": 3
   },
   "file_extension": ".py",
   "mimetype": "text/x-python",
   "name": "python",
   "nbconvert_exporter": "python",
   "pygments_lexer": "ipython3",
   "version": "3.11.8"
  }
 },
 "nbformat": 4,
 "nbformat_minor": 5
}
